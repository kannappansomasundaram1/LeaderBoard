{
 "cells": [
  {
   "cell_type": "code",
   "execution_count": 1,
   "metadata": {
    "dotnet_interactive": {
     "language": "pwsh"
    },
    "polyglot_notebook": {
     "kernelName": "pwsh"
    },
    "vscode": {
     "languageId": "polyglot-notebook"
    }
   },
   "outputs": [
    {
     "name": "stdout",
     "output_type": "stream",
     "text": [
      "MSBuild version 17.8.0-preview-23367-03+0ff2a83e9 for .NET\n",
      "  Determining projects to restore...\n",
      "  Restored C:\\Git\\Trials\\LeaderBoard\\App\\src\\LeaderBoard\\LeaderBoard.csproj (in 1.57 sec).\n",
      "C:\\Program Files\\dotnet\\sdk\\8.0.100-preview.7.23376.3\\Sdks\\Microsoft.NET.Sdk\\targets\\Microsoft.NET.RuntimeIdentifierInference.targets(254,5): warning NETSDK1201: For projects targeting .NET 8.0 and higher, specifying a RuntimeIdentifier will no longer produce a self contained app by default. To continue building self-contained apps, set the SelfContained property to true or use the --self-contained argument. [C:\\Git\\Trials\\LeaderBoard\\App\\src\\LeaderBoard\\LeaderBoard.csproj]\n",
      "C:\\Program Files\\dotnet\\sdk\\8.0.100-preview.7.23376.3\\Sdks\\Microsoft.NET.Sdk\\targets\\Microsoft.NET.RuntimeIdentifierInference.targets(314,5): message NETSDK1057: You are using a preview version of .NET. See: https://aka.ms/dotnet-support-policy [C:\\Git\\Trials\\LeaderBoard\\App\\src\\LeaderBoard\\LeaderBoard.csproj]\n",
      "  LeaderBoard -> C:\\Git\\Trials\\LeaderBoard\\App\\src\\LeaderBoard\\bin\\Release\\net6.0\\linux-x64\\LeaderBoard.dll\n",
      "  LeaderBoard -> C:\\Git\\Trials\\LeaderBoard\\App\\src\\LeaderBoard\\bin\\Release\\net6.0\\linux-x64\\publish\\\n"
     ]
    }
   ],
   "source": [
    "dotnet publish .\\App\\src\\LeaderBoard\\ -c Release -r linux-x64"
   ]
  },
  {
   "cell_type": "code",
   "execution_count": null,
   "metadata": {
    "dotnet_interactive": {
     "language": "pwsh"
    },
    "polyglot_notebook": {
     "kernelName": "pwsh"
    },
    "vscode": {
     "languageId": "polyglot-notebook"
    }
   },
   "outputs": [],
   "source": [
    "terraform init"
   ]
  },
  {
   "cell_type": "markdown",
   "metadata": {},
   "source": [
    "tflocal validate"
   ]
  },
  {
   "cell_type": "code",
   "execution_count": null,
   "metadata": {
    "dotnet_interactive": {
     "language": "pwsh"
    },
    "polyglot_notebook": {
     "kernelName": "pwsh"
    },
    "vscode": {
     "languageId": "polyglot-notebook"
    }
   },
   "outputs": [],
   "source": [
    "tflocal plan"
   ]
  },
  {
   "cell_type": "code",
   "execution_count": 3,
   "metadata": {
    "dotnet_interactive": {
     "language": "pwsh"
    },
    "polyglot_notebook": {
     "kernelName": "pwsh"
    },
    "vscode": {
     "languageId": "polyglot-notebook"
    }
   },
   "outputs": [
    {
     "name": "stdout",
     "output_type": "stream",
     "text": [
      "\u001b[0m\u001b[1mdata.archive_file.lambda_archive: Reading...\u001b[0m\u001b[0m\n",
      "\u001b[0m\u001b[1mrandom_uuid.bucket_random_id: Refreshing state... [id=b30ddf4f-271d-815d-09bb-b54ea7c04388]\u001b[0m\n",
      "\u001b[0m\u001b[1mdata.archive_file.lambda_archive: Still reading... [10s elapsed]\u001b[0m\u001b[0m\n",
      "\u001b[0m\u001b[1maws_iam_role.lambda_function_role: Refreshing state... [id=FunctionIamRole_leaderBoard-lambda]\u001b[0m\n",
      "\u001b[0m\u001b[1maws_s3_bucket.lambda_bucket: Refreshing state... [id=b30ddf4f-271d-815d-09bb-b54ea7c04388-leaderboard-tf-bucket]\u001b[0m\n",
      "\u001b[0m\u001b[1maws_iam_role_policy.dynamodb_lambda_policy: Refreshing state... [id=FunctionIamRole_leaderBoard-lambda:lambda-dynamodb-policy]\u001b[0m\n",
      "\u001b[0m\u001b[1maws_iam_role_policy_attachment.lambda_policy_attach: Refreshing state... [id=FunctionIamRole_leaderBoard-lambda-20230926101801346300000001]\u001b[0m\n",
      "\u001b[0m\u001b[1mdata.archive_file.lambda_archive: Still reading... [20s elapsed]\u001b[0m\u001b[0m\n",
      "\u001b[0m\u001b[1mdata.archive_file.lambda_archive: Still reading... [30s elapsed]\u001b[0m\u001b[0m\n",
      "\u001b[0m\u001b[1mdata.archive_file.lambda_archive: Read complete after 36s [id=faecc097cbf2b5accb916abdea1348fc9c90f4e7]\u001b[0m\n",
      "\u001b[0m\u001b[1maws_s3_object.lambda_bundle: Refreshing state... [id=LeaderBoard.zip]\u001b[0m\n",
      "\u001b[0m\u001b[1maws_lambda_function.function: Refreshing state... [id=leaderboard-lambda]\u001b[0m\n",
      "\u001b[0m\u001b[1maws_lambda_function_url.lambda_function_url: Refreshing state... [id=leaderboard-lambda]\u001b[0m\n",
      "\u001b[0m\u001b[1maws_cloudwatch_log_group.aggregator: Refreshing state... [id=/aws/lambda/leaderboard-lambda]\u001b[0m\n",
      "\n",
      "Terraform used the selected providers to generate the following execution\n",
      "plan. Resource actions are indicated with the following symbols:\n",
      "  \u001b[33m~\u001b[0m update in-place\u001b[0m\n",
      "\n",
      "Terraform will perform the following actions:\n",
      "\n",
      "\u001b[1m  # aws_lambda_function_url.lambda_function_url\u001b[0m will be updated in-place\n",
      "\u001b[0m  \u001b[33m~\u001b[0m\u001b[0m resource \"aws_lambda_function_url\" \"lambda_function_url\" {\n",
      "        id                 = \"leaderboard-lambda\"\n",
      "      \u001b[32m+\u001b[0m\u001b[0m invoke_mode        = \"BUFFERED\"\n",
      "        \u001b[90m# (5 unchanged attributes hidden)\u001b[0m\u001b[0m\n",
      "    }\n",
      "\n",
      "\u001b[1m  # aws_s3_object.lambda_bundle\u001b[0m will be updated in-place\n",
      "\u001b[0m  \u001b[33m~\u001b[0m\u001b[0m resource \"aws_s3_object\" \"lambda_bundle\" {\n",
      "      \u001b[33m~\u001b[0m\u001b[0m etag               = \"09a86d76c6cc7d7df22188fcbe022513-9\" \u001b[33m->\u001b[0m\u001b[0m \"f2eeeea64272a8fd354fabee28a307d1\"\n",
      "        id                 = \"LeaderBoard.zip\"\n",
      "        tags               = {}\n",
      "      \u001b[32m+\u001b[0m\u001b[0m version_id         = (known after apply)\n",
      "        \u001b[90m# (10 unchanged attributes hidden)\u001b[0m\u001b[0m\n",
      "    }\n",
      "\n",
      "\u001b[1mPlan:\u001b[0m 0 to add, 2 to change, 0 to destroy.\n",
      "\u001b[0m\u001b[0m\u001b[1maws_lambda_function_url.lambda_function_url: Modifying... [id=leaderboard-lambda]\u001b[0m\u001b[0m\n",
      "\u001b[0m\u001b[1maws_s3_object.lambda_bundle: Modifying... [id=LeaderBoard.zip]\u001b[0m\u001b[0m\n",
      "\u001b[0m\u001b[1maws_lambda_function_url.lambda_function_url: Modifications complete after 0s [id=leaderboard-lambda]\u001b[0m\n",
      "\u001b[0m\u001b[1maws_s3_object.lambda_bundle: Modifications complete after 7s [id=LeaderBoard.zip]\u001b[0m\n",
      "\u001b[33m╷\u001b[0m\u001b[0m\n",
      "\u001b[33m│\u001b[0m \u001b[0m\u001b[1m\u001b[33mWarning: \u001b[0m\u001b[0m\u001b[1mArgument is deprecated\u001b[0m\n",
      "\u001b[33m│\u001b[0m \u001b[0m\n",
      "\u001b[33m│\u001b[0m \u001b[0m\u001b[0m  with aws_s3_bucket.lambda_bucket,\n",
      "\u001b[33m│\u001b[0m \u001b[0m  on main.tf line 21, in resource \"aws_s3_bucket\" \"lambda_bucket\":\n",
      "\u001b[33m│\u001b[0m \u001b[0m  21:   acl           = \u001b[4m\"private\"\u001b[0m\u001b[0m\n",
      "\u001b[33m│\u001b[0m \u001b[0m\n",
      "\u001b[33m│\u001b[0m \u001b[0mUse the aws_s3_bucket_acl resource instead\n",
      "\u001b[33m│\u001b[0m \u001b[0m\n",
      "\u001b[33m│\u001b[0m \u001b[0m(and one more similar warning elsewhere)\n",
      "\u001b[33m╵\u001b[0m\u001b[0m\n",
      "\u001b[0m\u001b[1m\u001b[32m\n",
      "Apply complete! Resources: 0 added, 2 changed, 0 destroyed.\n",
      "\u001b[0m\u001b[0m\u001b[1m\u001b[32m\n",
      "Outputs:\n",
      "\n",
      "\u001b[0mlambda_function_details = \"arn:aws:lambda:eu-west-1:000000000000:function:leaderboard-lambda\"\n",
      "lambda_function_url = \"http://5pvnunxkeicgnjtok3hesau9eps0hint.lambda-url.eu-west-1.localhost.localstack.cloud:4566/\"\n"
     ]
    }
   ],
   "source": [
    "tflocal apply -auto-approve"
   ]
  }
 ],
 "metadata": {
  "language_info": {
   "name": "python"
  },
  "orig_nbformat": 4
 },
 "nbformat": 4,
 "nbformat_minor": 2
}
